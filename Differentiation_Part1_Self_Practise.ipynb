{
  "cells": [
    {
      "cell_type": "markdown",
      "metadata": {
        "id": "view-in-github",
        "colab_type": "text"
      },
      "source": [
        "<a href=\"https://colab.research.google.com/github/Courage003/Pandas-Pythonlib/blob/main/Differentiation_Part1_Self_Practise.ipynb\" target=\"_parent\"><img src=\"https://colab.research.google.com/assets/colab-badge.svg\" alt=\"Open In Colab\"/></a>"
      ]
    },
    {
      "cell_type": "markdown",
      "id": "ebc58234",
      "metadata": {
        "id": "ebc58234"
      },
      "source": [
        "<h2>Differentition Part-1 </h2>\n",
        "<br>\n",
        "What we'll learn:<br>\n",
        "<ul><li>Why differentiation is needed</li>\n",
        "    <li>Basic rules</li>\n",
        "    <li>Differntiation in Python</li>\n",
        "    <li>Differentiation to find slope</li>\n",
        "    <li>Practise</li>\n",
        "    </ul>"
      ]
    },
    {
      "cell_type": "markdown",
      "id": "3ee70405",
      "metadata": {
        "id": "3ee70405"
      },
      "source": [
        "<h3>Instructions</h3><br>\n",
        "<ul><li>If you don't know python yet, follow the math tutorial, we will cover python in lectures</li>\n",
        "<li>If you know python, follow both math and code</li></ul>"
      ]
    },
    {
      "cell_type": "markdown",
      "id": "9870be5a",
      "metadata": {
        "id": "9870be5a"
      },
      "source": [
        "<h2>Problem Statement</h2>\n",
        "Tell whether the function will increase at some x, decrease, or not<br>\n",
        "<h3>Problem statement1:  $f(x) = e^{0.7x} - \\cos(x)$, at x = 22/7\n",
        "<h3>Problem statement2:  $f(x) = x^4 - x^2 - 5$ at x = 1"
      ]
    },
    {
      "cell_type": "markdown",
      "id": "8a69562b",
      "metadata": {
        "id": "8a69562b"
      },
      "source": [
        "<h3>Library we' ll use in python</h3>\n",
        "<h5>SymPy</h5>\n",
        "<br>\n",
        "To install: !pip install sympy"
      ]
    },
    {
      "cell_type": "code",
      "execution_count": 1,
      "id": "778c26c2",
      "metadata": {
        "colab": {
          "base_uri": "https://localhost:8080/"
        },
        "id": "778c26c2",
        "outputId": "e672a6d1-34f0-46ee-cfeb-472044bd26aa"
      },
      "outputs": [
        {
          "output_type": "stream",
          "name": "stdout",
          "text": [
            "Requirement already satisfied: sympy in /usr/local/lib/python3.10/dist-packages (1.12)\n",
            "Requirement already satisfied: mpmath>=0.19 in /usr/local/lib/python3.10/dist-packages (from sympy) (1.3.0)\n"
          ]
        }
      ],
      "source": [
        "!pip install sympy"
      ]
    },
    {
      "cell_type": "code",
      "source": [
        "!pip install matplotlib"
      ],
      "metadata": {
        "colab": {
          "base_uri": "https://localhost:8080/"
        },
        "id": "RgyLk1Pweyw2",
        "outputId": "3a2ae700-9ac0-456f-965e-03575cb26090"
      },
      "id": "RgyLk1Pweyw2",
      "execution_count": 2,
      "outputs": [
        {
          "output_type": "stream",
          "name": "stdout",
          "text": [
            "Requirement already satisfied: matplotlib in /usr/local/lib/python3.10/dist-packages (3.7.1)\n",
            "Requirement already satisfied: contourpy>=1.0.1 in /usr/local/lib/python3.10/dist-packages (from matplotlib) (1.2.0)\n",
            "Requirement already satisfied: cycler>=0.10 in /usr/local/lib/python3.10/dist-packages (from matplotlib) (0.12.1)\n",
            "Requirement already satisfied: fonttools>=4.22.0 in /usr/local/lib/python3.10/dist-packages (from matplotlib) (4.47.2)\n",
            "Requirement already satisfied: kiwisolver>=1.0.1 in /usr/local/lib/python3.10/dist-packages (from matplotlib) (1.4.5)\n",
            "Requirement already satisfied: numpy>=1.20 in /usr/local/lib/python3.10/dist-packages (from matplotlib) (1.23.5)\n",
            "Requirement already satisfied: packaging>=20.0 in /usr/local/lib/python3.10/dist-packages (from matplotlib) (23.2)\n",
            "Requirement already satisfied: pillow>=6.2.0 in /usr/local/lib/python3.10/dist-packages (from matplotlib) (9.4.0)\n",
            "Requirement already satisfied: pyparsing>=2.3.1 in /usr/local/lib/python3.10/dist-packages (from matplotlib) (3.1.1)\n",
            "Requirement already satisfied: python-dateutil>=2.7 in /usr/local/lib/python3.10/dist-packages (from matplotlib) (2.8.2)\n",
            "Requirement already satisfied: six>=1.5 in /usr/local/lib/python3.10/dist-packages (from python-dateutil>=2.7->matplotlib) (1.16.0)\n"
          ]
        }
      ]
    },
    {
      "cell_type": "markdown",
      "id": "29667ffc",
      "metadata": {
        "id": "29667ffc"
      },
      "source": [
        "<h3>Import Library</h3>"
      ]
    },
    {
      "cell_type": "code",
      "execution_count": 3,
      "id": "39f91148",
      "metadata": {
        "id": "39f91148"
      },
      "outputs": [],
      "source": [
        "import sympy as sp\n",
        "import matplotlib.pyplot as plt"
      ]
    },
    {
      "cell_type": "markdown",
      "id": "190e3a85",
      "metadata": {
        "id": "190e3a85"
      },
      "source": [
        "<h3>Need of differentiation in ML:</h3>\n",
        "<ul><li>Helps to find the slope at any point of a curve (This is what we'll cover today)</li>\n",
        "<li>Find the value for which a function is maximum or minimum</li>\n",
        "</ul>\n",
        "\n"
      ]
    },
    {
      "cell_type": "markdown",
      "id": "60f7ba00",
      "metadata": {
        "id": "60f7ba00"
      },
      "source": [
        "<h2>Basic Rules</h2>"
      ]
    },
    {
      "cell_type": "markdown",
      "id": "e9c9403c",
      "metadata": {
        "id": "e9c9403c"
      },
      "source": [
        "<h3>Power Rule</h3>\n",
        "<br>\n",
        "---- Function ----<br>\n",
        "$f(x) = x^n$         \n",
        "<br>\n",
        "---- Differentiation of function ----<br>\n",
        "$f'(x) = nx^{(n-1)}$\n"
      ]
    },
    {
      "cell_type": "markdown",
      "id": "64cdcc7d",
      "metadata": {
        "id": "64cdcc7d"
      },
      "source": [
        "<h3>Example</h3>\n",
        "<br>\n",
        "---- Function ----<br>\n",
        "$f(x) = x$         \n",
        "<br>\n",
        "---- Differentiation of function ----<br>\n",
        "$f'(x) = 1$<br>\n",
        "---- Function ----<br>\n",
        "$f(x) = x^2$         \n",
        "<br>\n",
        "---- Differentiation of function ----<br>\n",
        "$f'(x) = 2x$<br>\n",
        "---- Function ----<br>\n",
        "$f(x) = x^3$         \n",
        "<br>\n",
        "---- Differentiation of function ----<br>\n",
        "$f'(x) = 3x^{2}$\n",
        "\n"
      ]
    },
    {
      "cell_type": "code",
      "execution_count": 4,
      "id": "d41a71b2",
      "metadata": {
        "colab": {
          "base_uri": "https://localhost:8080/"
        },
        "id": "d41a71b2",
        "outputId": "7264d0d0-d4fa-4cd1-b976-facc51fe504f"
      },
      "outputs": [
        {
          "output_type": "stream",
          "name": "stdout",
          "text": [
            "3*x**2\n"
          ]
        }
      ],
      "source": [
        "# Rule 1\n",
        "\n",
        "x = sp.symbols('x')\n",
        "\n",
        "#You can change n\n",
        "n=3\n",
        "\n",
        "#Power function\n",
        "func= x**(n)\n",
        "\n",
        "# Differentiating in terms of x\n",
        "differntiation_f = sp.diff(func, x)\n",
        "print(differntiation_f)\n",
        "\n"
      ]
    },
    {
      "cell_type": "markdown",
      "id": "b359af44",
      "metadata": {
        "id": "b359af44"
      },
      "source": [
        "<h3>Constant Rule</h3>\n",
        "<br>\n",
        "---- Function ----<br>\n",
        "$f(x) = c $         \n",
        "<br>\n",
        "---- Differentiation of function ----<br>\n",
        "$f'(x) = 0 $"
      ]
    },
    {
      "cell_type": "markdown",
      "id": "d865e683",
      "metadata": {
        "id": "d865e683"
      },
      "source": [
        "<h3>Example</h3>\n",
        "<br>\n",
        "---- Function ----<br>\n",
        "$f(x) = 198 $         \n",
        "<br>\n",
        "---- Differentiation of function ----<br>\n",
        "$f'(x) = 0 $ <br>\n",
        "---- Function ----<br>\n",
        "$f(x) = -108 $         \n",
        "<br>\n",
        "---- Differentiation of function ----<br>\n",
        "$f'(x) = 0 $"
      ]
    },
    {
      "cell_type": "code",
      "execution_count": 5,
      "id": "afc8ca04",
      "metadata": {
        "colab": {
          "base_uri": "https://localhost:8080/"
        },
        "id": "afc8ca04",
        "outputId": "65614ab9-6ff9-44a4-d7d0-dc615c531f6a"
      },
      "outputs": [
        {
          "output_type": "stream",
          "name": "stdout",
          "text": [
            "0\n"
          ]
        }
      ],
      "source": [
        "# Rule 2\n",
        "\n",
        "x = sp.symbols('x')\n",
        "\n",
        "#You can change constant c\n",
        "c = 90\n",
        "\n",
        "\n",
        "#Power function\n",
        "func= c\n",
        "\n",
        "# Differentiating in terms of x\n",
        "differntiation_f = sp.diff(func, x)\n",
        "print(differntiation_f)\n"
      ]
    },
    {
      "cell_type": "markdown",
      "id": "04820a69",
      "metadata": {
        "id": "04820a69"
      },
      "source": [
        "<h3>Sum Rule</h3>\n",
        "<br>\n",
        "---- Function ----<br>\n",
        "$f(x) = g(x) + h(x)$         \n",
        "<br>\n",
        "---- Differentiation of function ----<br>\n",
        "$f'(x) = g'(x) + h'(x)$"
      ]
    },
    {
      "cell_type": "markdown",
      "id": "d8f9d730",
      "metadata": {
        "id": "d8f9d730"
      },
      "source": [
        "<h3>Example</h3>\n",
        "<br>\n",
        "---- Function ----<br>\n",
        "$f(x) = x^3 + 2 $         \n",
        "<br>\n",
        "---- Differentiation of function ----<br>\n",
        "$f'(x) = 3x^2 $ <br>\n",
        "---- Function ----<br>\n",
        "$f(x) = 3x + x^4 $         \n",
        "<br>\n",
        "---- Differentiation of function ----<br>\n",
        "$f'(x) = 3 + 4x^3  $"
      ]
    },
    {
      "cell_type": "code",
      "execution_count": 6,
      "id": "52742ca7",
      "metadata": {
        "colab": {
          "base_uri": "https://localhost:8080/"
        },
        "id": "52742ca7",
        "outputId": "c06796ce-79c9-4af6-b8ed-d6ee166c7911"
      },
      "outputs": [
        {
          "output_type": "stream",
          "name": "stdout",
          "text": [
            "3*x**2\n"
          ]
        }
      ],
      "source": [
        "#rule 3\n",
        "\n",
        "x = sp.symbols('x')\n",
        "\n",
        "#You can change n\n",
        "n=3\n",
        "c=4\n",
        "#Sum function\n",
        "\n",
        "g=c\n",
        "h= x**n\n",
        "func= g+h\n",
        "\n",
        "# Differentiating in terms of x\n",
        "differntiation_f = sp.diff(func, x)\n",
        "print(differntiation_f)\n"
      ]
    },
    {
      "cell_type": "code",
      "execution_count": 7,
      "id": "8136d85a",
      "metadata": {
        "colab": {
          "base_uri": "https://localhost:8080/"
        },
        "id": "8136d85a",
        "outputId": "c37caad9-b213-4f50-95fb-ef50f1448192"
      },
      "outputs": [
        {
          "output_type": "stream",
          "name": "stdout",
          "text": [
            "4*x**3 + 2*x\n"
          ]
        }
      ],
      "source": [
        "#rule 3\n",
        "x = sp.symbols('x')\n",
        "\n",
        "#You can change c\n",
        "c=2\n",
        "#Sum function\n",
        "g=x**4\n",
        "h=x**2\n",
        "\n",
        "func= g + h +c\n",
        "\n",
        "# Differentiating in terms of x\n",
        "differntiation_f = sp.diff(func, x)\n",
        "print(differntiation_f)"
      ]
    },
    {
      "cell_type": "markdown",
      "id": "76272fc4",
      "metadata": {
        "id": "76272fc4"
      },
      "source": [
        "<h4>Difference Rule</h4>\n",
        "<br>\n",
        "---- Function ----<br>\n",
        "$f(x) = g(x) - h(x)$         \n",
        "<br>\n",
        "---- Differentiation of function ----<br>\n",
        "$f'(x) = g'(x) - h'(x)$  "
      ]
    },
    {
      "cell_type": "markdown",
      "id": "dadf0ebf",
      "metadata": {
        "id": "dadf0ebf"
      },
      "source": [
        "<h3>Example</h3>\n",
        "<br>\n",
        "---- Function ----<br>\n",
        "$f(x) = x^3 - 2 $         \n",
        "<br>\n",
        "---- Differentiation of function ----<br>\n",
        "$f'(x) = 3x^2 $ <br>\n",
        "---- Function ----<br>\n",
        "$f(x) = 3x - x^4 $         \n",
        "<br>\n",
        "---- Differentiation of function ----<br>\n",
        "$f'(x) = 3 - 4x^3  $"
      ]
    },
    {
      "cell_type": "code",
      "execution_count": 8,
      "id": "65bb1f9c",
      "metadata": {
        "colab": {
          "base_uri": "https://localhost:8080/"
        },
        "id": "65bb1f9c",
        "outputId": "41b554eb-9ca8-41d3-a335-419e4941c0db"
      },
      "outputs": [
        {
          "output_type": "stream",
          "name": "stdout",
          "text": [
            "-4*x**3 + 3*x**2\n"
          ]
        }
      ],
      "source": [
        "# rule 4\n",
        "\n",
        "x = sp.symbols('x')\n",
        "\n",
        "#You can change n,m\n",
        "n=3\n",
        "m=4\n",
        "# Difference function (you can change g and h)\n",
        "g=x**(n)\n",
        "h=x**(m)\n",
        "func= g - h\n",
        "\n",
        "# Differentiating in terms of x\n",
        "differntiation_f = sp.diff(func, x)\n",
        "print(differntiation_f)\n"
      ]
    },
    {
      "cell_type": "markdown",
      "id": "48ac1962",
      "metadata": {
        "id": "48ac1962"
      },
      "source": [
        "<h4>Product Rule</h4>\n",
        "<br>\n",
        "---- Function ----<br>\n",
        "\n",
        "\n",
        "$f(x) = g(x) \\cdot h(x)   $  \n",
        "<br>\n",
        "---- Differentiation of function ----<br>\n",
        "\n",
        "$f'(x) = g'(x) \\cdot h(x) + g(x) \\cdot h'(x)$"
      ]
    },
    {
      "cell_type": "markdown",
      "id": "1ad14061",
      "metadata": {
        "id": "1ad14061"
      },
      "source": [
        "<h3>Example</h3>\n",
        "<br>\n",
        "---- Function ----<br>\n",
        "$f(x) = (x^3)(2) $         \n",
        "<br>\n",
        "---- Differentiation of function ----<br>\n",
        "$f'(x) = (3x^2)(2) + (x^3)(0) $ <br>\n",
        "---- Function ----<br>\n",
        "$f(x) = (3x)(x^4)$         \n",
        "<br>\n",
        "---- Differentiation of function ----<br>\n",
        "$f'(x) = 3(x^4) + (3x)(4x^3)  $"
      ]
    },
    {
      "cell_type": "code",
      "execution_count": 9,
      "id": "bd9baff8",
      "metadata": {
        "colab": {
          "base_uri": "https://localhost:8080/"
        },
        "id": "bd9baff8",
        "outputId": "53e99a3e-d9cd-4bcd-9735-b2ed46a0f35f"
      },
      "outputs": [
        {
          "output_type": "stream",
          "name": "stdout",
          "text": [
            "x**3 + 3*x**2*(x + 7)\n"
          ]
        }
      ],
      "source": [
        "#rule 5\n",
        "\n",
        "x = sp.symbols('x')\n",
        "\n",
        "#You can change n,c\n",
        "n=3\n",
        "c=7\n",
        "# Product function (you change g and h)\n",
        "g=x**n\n",
        "h=(x+c)\n",
        "func= g*h\n",
        "\n",
        "# Differentiating in terms of x\n",
        "differntiation_f = sp.diff(func, x)\n",
        "print(differntiation_f)\n"
      ]
    },
    {
      "cell_type": "markdown",
      "id": "822e0397",
      "metadata": {
        "id": "822e0397"
      },
      "source": [
        "<h4>Quotient Rule</h4>\n",
        "<br>\n",
        "---- Function ----<br>\n",
        "\n",
        "\n",
        "$f(x) = \\frac{g(x)}{h(x)} $  \n",
        "<br>\n",
        "---- Differentiation of function ----<br>\n",
        "\n",
        "$f'(x) = \\frac{g'(x) \\cdot h(x) - g(x) \\cdot h'(x)}{(h(x))^2}$"
      ]
    },
    {
      "cell_type": "code",
      "execution_count": 10,
      "id": "9724cdbf",
      "metadata": {
        "colab": {
          "base_uri": "https://localhost:8080/"
        },
        "id": "9724cdbf",
        "outputId": "f32edb7d-da29-4a87-9326-1e4be264598f"
      },
      "outputs": [
        {
          "output_type": "stream",
          "name": "stdout",
          "text": [
            "(2*x - 4)*(x**3 + x)/(-x**2 + 4*x)**2 + (3*x**2 + 1)/(-x**2 + 4*x)\n"
          ]
        }
      ],
      "source": [
        "#rule6\n",
        "\n",
        "x = sp.symbols('x')\n",
        "\n",
        "#You can change n\n",
        "n=3\n",
        "m=4\n",
        "\n",
        "#Power function\n",
        "g=x**n+x\n",
        "h=x*m - x**2\n",
        "func= g/h\n",
        "\n",
        "# Differentiating in terms of x\n",
        "differntiation_f = sp.diff(func, x)\n",
        "print(differntiation_f)\n",
        "\n"
      ]
    },
    {
      "cell_type": "markdown",
      "id": "bd2d2617",
      "metadata": {
        "id": "bd2d2617"
      },
      "source": [
        "<h3> More rules</h3>"
      ]
    },
    {
      "cell_type": "markdown",
      "id": "95383605",
      "metadata": {
        "id": "95383605"
      },
      "source": [
        "https://www.math.ucdavis.edu/~kouba/Math17BHWDIRECTORY/Derivatives.pdf"
      ]
    },
    {
      "cell_type": "code",
      "execution_count": 10,
      "id": "730e951f",
      "metadata": {
        "id": "730e951f"
      },
      "outputs": [],
      "source": []
    },
    {
      "cell_type": "markdown",
      "id": "4f31b3e2",
      "metadata": {
        "id": "4f31b3e2"
      },
      "source": [
        "<h3>Differentiation to Find Slope</h3>"
      ]
    },
    {
      "cell_type": "markdown",
      "id": "f3de252b",
      "metadata": {
        "id": "f3de252b"
      },
      "source": [
        "<h3> Tangent: </h3><br>\n",
        "A tangent to a curve(any function when plotted on axis is refered to as curve) at a specific point is a straight line that just touches the curve at that point"
      ]
    },
    {
      "cell_type": "markdown",
      "id": "0aaca126",
      "metadata": {
        "id": "0aaca126"
      },
      "source": [
        "![image.png](attachment:image.png)"
      ]
    },
    {
      "cell_type": "markdown",
      "id": "5cef034c",
      "metadata": {
        "id": "5cef034c"
      },
      "source": [
        "<h3>Equation of line</h3>\n",
        "<br>\n",
        "$f(x)=slope*x+c$\n",
        "<br>\n",
        "<br>\n",
        "\n",
        "To find c:<br>\n",
        "put x= p <br>\n",
        "find f(x)<br>\n",
        "f(p)=slope*p + c<br>\n",
        "Hence:<br>\n",
        "$c= f(p)-slope*p$<br>\n",
        "\n",
        "Final:<br>\n",
        "$f(x)=slope*x+f(p)-slope*p$"
      ]
    },
    {
      "cell_type": "markdown",
      "id": "e1ce1940",
      "metadata": {
        "id": "e1ce1940"
      },
      "source": [
        "<br>\n",
        "And we know tangent is a straight line<br>\n",
        "<br>\n",
        "<h3>Equation of tangent to any curve with function $f(x)$</h3>\n",
        "<br>\n",
        "$f(x)=slope*x+f(p)-slope*p$"
      ]
    },
    {
      "cell_type": "markdown",
      "id": "2a7ef183",
      "metadata": {
        "id": "2a7ef183"
      },
      "source": [
        "<h2>A curve can have multiple tangents</h2>\n",
        "We can draw tangents from all the points on curve,<br>\n",
        "if we want to draw tangent at x=5: <br>\n",
        "our p=5<br>\n",
        "if we want to draw our tangent at x=10:<br>\n",
        "our p = 10"
      ]
    },
    {
      "cell_type": "markdown",
      "id": "7a8d857e",
      "metadata": {
        "id": "7a8d857e"
      },
      "source": [
        "<h3>Slope of tangent:</h3>\n",
        "<br>\n",
        "With the help of $f(x)$ we can get $f(p)$<br>\n",
        "x is a variable and can take any values from negative infinity to positive infinity,p is point from which we need tangent<br>\n",
        "<br>\n",
        "<h4>What about slope of tangent?<br></h4>\n",
        "\n",
        "The slope of the tangent at a point on a curve is nothing but differentiation. In calculus, the derivative of a function at a specific point provides the slope of the tangent line at that point."
      ]
    },
    {
      "cell_type": "markdown",
      "id": "f935ca3f",
      "metadata": {
        "id": "f935ca3f"
      },
      "source": [
        "<h2>What do we mean by this</h2><br>\n",
        "We have a function say $f(x)$, we want to find tangent at x=2 or we can say x=p=2 <br>\n",
        "Steps:<br>\n",
        "<ul><li>Calculate f(2): </li>\n",
        "<li>Calculate differentiation of  $ f(x) $  say  $ f'(x) $  </li>\n",
        "<li>Find value of differentiation at x=p=2, this is slope.  $slope=f'(2)$</li>\n",
        "<li>$c= f(2) - slope*2$ </li>\n",
        "<li>Equation of tangent is:   $f(x)=slope*x + f(2) - slope*2 $</li></ul>"
      ]
    },
    {
      "cell_type": "markdown",
      "id": "443b8b70",
      "metadata": {
        "id": "443b8b70"
      },
      "source": [
        "<h2>Example</h2><br>\n",
        "Function: $f(x)=x^2+5$<br>\n",
        "<br>\n",
        "$f(2)=2^2+5$ = 9<br>\n",
        "$differentitaion:f'(x)=2x$<br>\n",
        "$f'(2)= 2*2 = 4$<br>\n",
        "$Slope= f'(2)= 4$<br>\n",
        "$c=f(2)-slope*2=9-4*2=1$<br>\n",
        "<h4>Equation of tangent:<br>\n",
        "$f(x)=4*x + 1 $"
      ]
    },
    {
      "cell_type": "markdown",
      "id": "a22bdbb9",
      "metadata": {
        "id": "a22bdbb9"
      },
      "source": [
        "<h2>Let us Visualize for x=0 and f(x)= x**2+5</h2>"
      ]
    },
    {
      "cell_type": "code",
      "execution_count": 11,
      "id": "6ac3b451",
      "metadata": {
        "colab": {
          "base_uri": "https://localhost:8080/",
          "height": 430
        },
        "id": "6ac3b451",
        "outputId": "2b8c5ca0-81ed-4960-cc66-eeb0f0dcf900"
      },
      "outputs": [
        {
          "output_type": "display_data",
          "data": {
            "text/plain": [
              "<Figure size 640x480 with 1 Axes>"
            ],
            "image/png": "[encoded data removed]"
          },
          "metadata": {}
        }
      ],
      "source": [
        "#define p, point to which tangent is being drawn:\n",
        "p=0\n",
        "\n",
        "# create list of x values from -100 to 100\n",
        "\n",
        "x_values=[i for i in range(-100,100)]\n",
        "\n",
        "# calculate function results for these x_values\n",
        "\n",
        "def func(x):\n",
        "    return x**2+5\n",
        "func_values=[]\n",
        "for i in x_values:\n",
        "    func_values.append(func(i))\n",
        "\n",
        "#calculate differentation of function at x = 0\n",
        "\n",
        "x = sp.symbols('x')\n",
        "f = x**2+5\n",
        "differentiation_f = sp.diff(f, x)\n",
        "derivative_at_x_0 = differentiation_f.subs(x, p)\n",
        "\n",
        "# define equation of tangent at x=0\n",
        "slope=derivative_at_x_0\n",
        "c=func(p)-slope*p\n",
        "# equation: y=slope*x+c, for this equation find values of y for x in range(-100,100) to plot the tangent\n",
        "\n",
        "tangent_values=[]\n",
        "def tangent_line(slope,c,i):\n",
        "    return slope*i+c\n",
        "for i in x_values:\n",
        "    tangent_values.append(tangent_line(slope,c,i))\n",
        "\n",
        "#plot curve\n",
        "plt.plot(x_values,func_values,label='Curve')\n",
        "\n",
        "#plot tangent\n",
        "plt.plot(x_values,tangent_values,label=\"Tangent at x=0\")\n",
        "\n",
        "#show the plot\n",
        "plt.legend()\n",
        "\n",
        "plt.show()"
      ]
    },
    {
      "cell_type": "markdown",
      "id": "d38b0cd9",
      "metadata": {
        "id": "d38b0cd9"
      },
      "source": [
        "<h2>Let us Visualize for x= 25</h2>"
      ]
    },
    {
      "cell_type": "code",
      "execution_count": 12,
      "id": "307c738a",
      "metadata": {
        "colab": {
          "base_uri": "https://localhost:8080/",
          "height": 430
        },
        "id": "307c738a",
        "outputId": "e6388cad-6275-4ae9-8740-b435043115c6"
      },
      "outputs": [
        {
          "output_type": "display_data",
          "data": {
            "text/plain": [
              "<Figure size 640x480 with 1 Axes>"
            ],
            "image/png": "[encoded data removed]"
          },
          "metadata": {}
        }
      ],
      "source": [
        "#define p, point to which tangent is being drawn:\n",
        "p=25\n",
        "\n",
        "# create list of x values from -100 to 100\n",
        "\n",
        "x_values=[i for i in range(-100,100)]\n",
        "\n",
        "# calculate function results for these x_values\n",
        "\n",
        "def func(x):\n",
        "    return x**2+5\n",
        "func_values=[]\n",
        "for i in x_values:\n",
        "    func_values.append(func(i))\n",
        "\n",
        "#calculate differentation of function at x = 25\n",
        "\n",
        "x = sp.symbols('x')\n",
        "f = x**2+5\n",
        "differentiation_f = sp.diff(f, x)\n",
        "derivative_at_x_25 = differentiation_f.subs(x, p)\n",
        "\n",
        "# define equation of tangent at x=25\n",
        "slope=derivative_at_x_25\n",
        "c=func(p)-slope*p\n",
        "# equation: y=slope*x+c, for this equation find values of y for x in range(-100,100) to plot the tangent\n",
        "\n",
        "tangent_values=[]\n",
        "def tangent_line(slope,c,i):\n",
        "    return slope*i+c\n",
        "for i in x_values:\n",
        "    tangent_values.append(tangent_line(slope,c,i))\n",
        "\n",
        "#plot curve\n",
        "plt.plot(x_values,func_values,label='Curve')\n",
        "\n",
        "#plot tangent\n",
        "plt.plot(x_values,tangent_values,label=\"Tangent at x=25\")\n",
        "\n",
        "#show the plot\n",
        "plt.legend()\n",
        "\n",
        "plt.show()"
      ]
    },
    {
      "cell_type": "markdown",
      "id": "5ebf1185",
      "metadata": {
        "id": "5ebf1185"
      },
      "source": [
        "<h2>Do you see the slope is more slanting upwards as compared to x=0??</h2>"
      ]
    },
    {
      "cell_type": "markdown",
      "id": "3354fe89",
      "metadata": {
        "id": "3354fe89"
      },
      "source": [
        "<h2>Let us visualize for x=50 now</h2>"
      ]
    },
    {
      "cell_type": "code",
      "execution_count": 13,
      "id": "38d69c67",
      "metadata": {
        "colab": {
          "base_uri": "https://localhost:8080/",
          "height": 430
        },
        "id": "38d69c67",
        "outputId": "fcfbe703-35e9-48ec-f657-d42c5b875090"
      },
      "outputs": [
        {
          "output_type": "display_data",
          "data": {
            "text/plain": [
              "<Figure size 640x480 with 1 Axes>"
            ],
            "image/png": "[encoded data removed]"
          },
          "metadata": {}
        }
      ],
      "source": [
        "#define p, point to which tangent is being drawn:\n",
        "p=50\n",
        "# create list of x values from -100 to 100\n",
        "\n",
        "x_values=[i for i in range(-100,100)]\n",
        "\n",
        "# calculate function results for these x_values\n",
        "\n",
        "def func(x):\n",
        "    return x**2+5\n",
        "func_values=[]\n",
        "for i in x_values:\n",
        "    func_values.append(func(i))\n",
        "\n",
        "#calculate differentation of function at x=50\n",
        "\n",
        "x = sp.symbols('x')\n",
        "f = x**2+5\n",
        "differentiation_f = sp.diff(f, x)\n",
        "derivative_at_x_50 = differentiation_f.subs(x, p)\n",
        "\n",
        "# define equation of tangent at x=50\n",
        "slope=derivative_at_x_50\n",
        "c=func(p)-slope*p\n",
        "# equation: y=slope*x+c, for this equation find values of y for x in range(-100,100) to plot the tangent\n",
        "\n",
        "tangent_values=[]\n",
        "def tangent_line(slope,c,i):\n",
        "    return slope*i+c\n",
        "for i in x_values:\n",
        "    tangent_values.append(tangent_line(slope,c,i))\n",
        "\n",
        "#plot curve\n",
        "plt.plot(x_values,func_values,label='Curve')\n",
        "\n",
        "#plot tangent\n",
        "plt.plot(x_values,tangent_values,label=\"Tangent at x=50\")\n",
        "\n",
        "#show the plot\n",
        "plt.legend()\n",
        "\n",
        "plt.show()"
      ]
    },
    {
      "cell_type": "markdown",
      "id": "22d101f5",
      "metadata": {
        "id": "22d101f5"
      },
      "source": [
        "<h2>Understanding</h2><br>\n",
        "As the curve is getting steeper ,slope of tangent is getting higher and slope is nothing but differnetiation of function at a point x, and that means differentiation will be more\n"
      ]
    },
    {
      "cell_type": "code",
      "execution_count": 14,
      "id": "32950eb9",
      "metadata": {
        "colab": {
          "base_uri": "https://localhost:8080/"
        },
        "id": "32950eb9",
        "outputId": "218244df-4525-44a4-f2d7-1118623b2a73"
      },
      "outputs": [
        {
          "output_type": "stream",
          "name": "stdout",
          "text": [
            "Derivative at 2/slope of tangent at x=0: 0\n",
            "------------------------------\n",
            "Derivative at 10/slope of tangent at x=25: 50\n",
            "----------------------------------\n",
            "Derivative at 50/slope of tangent at x=50: 100\n"
          ]
        }
      ],
      "source": [
        "print(\"Derivative at 2/slope of tangent at x=0:\",derivative_at_x_0)\n",
        "print(\"------------------------------\")\n",
        "print(\"Derivative at 10/slope of tangent at x=25:\",derivative_at_x_25)\n",
        "print(\"----------------------------------\")\n",
        "print(\"Derivative at 50/slope of tangent at x=50:\",derivative_at_x_50)"
      ]
    },
    {
      "cell_type": "markdown",
      "id": "82b79b42",
      "metadata": {
        "id": "82b79b42"
      },
      "source": [
        "<h2> as we can also see from above, the same is valid</h2>\n",
        "<br>\n",
        "<h2>One more thing!</h2>"
      ]
    },
    {
      "cell_type": "markdown",
      "id": "ae02de1d",
      "metadata": {
        "id": "ae02de1d"
      },
      "source": [
        "<h2>Let us visualize for x=-50 now</h2>"
      ]
    },
    {
      "cell_type": "code",
      "execution_count": 15,
      "id": "fb01604e",
      "metadata": {
        "colab": {
          "base_uri": "https://localhost:8080/",
          "height": 430
        },
        "id": "fb01604e",
        "outputId": "dd8614f0-9b83-4f6a-8d65-9b21e6e0d91b"
      },
      "outputs": [
        {
          "output_type": "display_data",
          "data": {
            "text/plain": [
              "<Figure size 640x480 with 1 Axes>"
            ],
            "image/png": "[encoded data removed]"
          },
          "metadata": {}
        }
      ],
      "source": [
        "#define p, point to which tangent is being drawn:\n",
        "p=-50\n",
        "# create list of x values from -100 to 100\n",
        "\n",
        "x_values=[i for i in range(-100,100)]\n",
        "\n",
        "# calculate function results for these x_values\n",
        "\n",
        "def func(x):\n",
        "    return x**2+5\n",
        "func_values=[]\n",
        "for i in x_values:\n",
        "    func_values.append(func(i))\n",
        "\n",
        "#calculate differentation of function at x=-50\n",
        "\n",
        "x = sp.symbols('x')\n",
        "f = x**2+5\n",
        "differentiation_f = sp.diff(f, x)\n",
        "derivative_at_x = differentiation_f.subs(x, p)\n",
        "\n",
        "# define equation of tangent at x=-50\n",
        "slope=derivative_at_x\n",
        "c=func(p)-slope*p\n",
        "# equation: y=slope*x+c, for this equation find values of y for x in range(-100,100) to plot the tangent\n",
        "\n",
        "tangent_values=[]\n",
        "def tangent_line(slope,c,i):\n",
        "    return slope*i+c\n",
        "for i in x_values:\n",
        "    tangent_values.append(tangent_line(slope,c,i))\n",
        "\n",
        "#plot curve\n",
        "plt.plot(x_values,func_values,label='Curve')\n",
        "\n",
        "#plot tangent\n",
        "plt.plot(x_values,tangent_values,label=\"Tangent at x=-50\")\n",
        "\n",
        "#show the plot\n",
        "plt.legend()\n",
        "\n",
        "plt.show()"
      ]
    },
    {
      "cell_type": "code",
      "execution_count": null,
      "id": "d4d3e9d2",
      "metadata": {
        "colab": {
          "base_uri": "https://localhost:8080/"
        },
        "id": "d4d3e9d2",
        "outputId": "f27389e4-914a-4dc0-8a78-100096f8fcc9"
      },
      "outputs": [
        {
          "output_type": "stream",
          "name": "stdout",
          "text": [
            "Derivative at -50/slope of tangent at x=-50: -100\n"
          ]
        }
      ],
      "source": [
        "print(\"Derivative at -50/slope of tangent at x=-50:\",derivative_at_x)"
      ]
    },
    {
      "cell_type": "markdown",
      "id": "55524824",
      "metadata": {
        "id": "55524824"
      },
      "source": [
        "<h2>Understand</h2>\n",
        "As you can see:<br>\n",
        "<ul><li>Slope of tangent is -ve, means function is decreasing, as we can see at x=-50 function is heading down</li>\n",
        "<li>Slope of tangent is +ve, means function is increasing, as we can see at x=50 function is heading up</li>\n",
        "<li>Slope of tangent is 0, means function is at a turning point, as we can see at x=-0 function is stable, going to turn</li></ul>\n",
        "\n",
        "<h2>Derivative of a function tells us where the function is heading to</h2>\n"
      ]
    },
    {
      "cell_type": "markdown",
      "id": "7a21826e",
      "metadata": {
        "id": "7a21826e"
      },
      "source": [
        "<h1> Now try to solve the problem statement</h1>"
      ]
    },
    {
      "cell_type": "code",
      "execution_count": 16,
      "id": "ad6210a5",
      "metadata": {
        "id": "ad6210a5",
        "outputId": "44842fe9-9b1d-4387-c757-f2eba2b33d0b",
        "colab": {
          "base_uri": "https://localhost:8080/",
          "height": 430
        }
      },
      "outputs": [
        {
          "output_type": "display_data",
          "data": {
            "text/plain": [
              "<Figure size 640x480 with 1 Axes>"
            ],
            "image/png": "[encoded data removed]"
          },
          "metadata": {}
        }
      ],
      "source": [
        "# prompt:\n",
        "\n",
        "import numpy as np\n",
        "import matplotlib.pyplot as plt\n",
        "\n",
        "#define the function\n",
        "def f(x):\n",
        "  return x**2+5\n",
        "\n",
        "#define the derivative of the function\n",
        "def f_prime(x):\n",
        "  return 2*x\n",
        "\n",
        "#define the x values\n",
        "x_values = np.linspace(-10, 10, 100)\n",
        "\n",
        "#calculate the function values\n",
        "f_values = f(x_values)\n",
        "\n",
        "#calculate the derivative values\n",
        "f_prime_values = f_prime(x_values)\n",
        "\n",
        "#plot the function and the derivative\n",
        "plt.plot(x_values, f_values, label=\"f(x)\")\n",
        "plt.plot(x_values, f_prime_values, label=\"f'(x)\")\n",
        "\n",
        "#show the plot\n",
        "plt.legend()\n",
        "plt.show()\n"
      ]
    },
    {
      "cell_type": "code",
      "execution_count": 15,
      "id": "018153be",
      "metadata": {
        "id": "018153be"
      },
      "outputs": [],
      "source": []
    },
    {
      "cell_type": "code",
      "execution_count": null,
      "id": "e86fb99b",
      "metadata": {
        "id": "e86fb99b"
      },
      "outputs": [],
      "source": []
    },
    {
      "cell_type": "code",
      "execution_count": null,
      "id": "ba3cb624",
      "metadata": {
        "id": "ba3cb624"
      },
      "outputs": [],
      "source": []
    },
    {
      "cell_type": "code",
      "execution_count": null,
      "id": "6a5b01ff",
      "metadata": {
        "id": "6a5b01ff"
      },
      "outputs": [],
      "source": []
    },
    {
      "cell_type": "code",
      "execution_count": null,
      "id": "690a7b47",
      "metadata": {
        "id": "690a7b47"
      },
      "outputs": [],
      "source": []
    }
  ],
  "metadata": {
    "kernelspec": {
      "display_name": "Python 3",
      "language": "python",
      "name": "python3"
    },
    "language_info": {
      "codemirror_mode": {
        "name": "ipython",
        "version": 3
      },
      "file_extension": ".py",
      "mimetype": "text/x-python",
      "name": "python",
      "nbconvert_exporter": "python",
      "pygments_lexer": "ipython3",
      "version": "3.5.6"
    },
    "colab": {
      "provenance": [],
      "include_colab_link": true
    }
  },
  "nbformat": 4,
  "nbformat_minor": 5
}